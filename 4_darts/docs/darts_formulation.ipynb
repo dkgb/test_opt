{
 "cells": [
  {
   "cell_type": "markdown",
   "metadata": {},
   "source": [
    "# #4 Darts - Formulation\n",
    "\n",
    "_Author: Andrea Rujano_  \n",
    "_August 2021_\n",
    "\n",
    "This is the MIP formulation of the puzzle. Statement and solution implementation of all puzzles are available from the main page of the Fun Puzzles project, which is maintained by Mip Master.\n",
    "\n",
    "There are three people playing darts: Andrea, Antonio and Luiz. Each one of them threw 6 darts, and each one of them scored a total of 71 points. In the first two shots Andrea made a total of 22 point, Antonio made in the first shot a total of 3 points. Who hit the bullseye?"
   ]
  },
  {
   "cell_type": "markdown",
   "metadata": {},
   "source": [
    "## Input Data\n",
    "\n",
    "We start by defining three sets of indices. The first set **players** will correspond to the player\n",
    "\n",
    "* P = {1, 2, 3}.\n",
    "\n",
    "Here 1 is for the player Andrea, 2 for the player Antonio, and 3 for the player Luiz. Next we define the set **shots** which corresponds to the shot, since each player threw 6 darts, we have\n",
    "\n",
    "* S = {1, 2, 3, 4, 5, 6}.\n",
    "\n",
    "Next, we define a third set of indices which correspond to the *points* of each **region** of the dartboard, so\n",
    "\n",
    "* R = {1, 2, 3, 5, 10, 20, 25, 50}.\n",
    "\n",
    "Finally, we define a data structure which indicates the numbers of **darts** in each **region** of the dartboard, so\n",
    "\n",
    "* DR = {1:3, 2:2, 3:2, 5:2, 10: 3, 20:3, 25:2, 50:1}."
   ]
  },
  {
   "cell_type": "markdown",
   "metadata": {},
   "source": [
    "## Decision variables\n",
    "\n",
    "With the sets of indices defined above we now define the decision varibles, can you think of how we do this?\n",
    "\n",
    "First, the decision variables will have three indices each, and second those will be binary, so for the variable $x_{ijk}$ where $i \\in P$ , $j \\in S$  and $k \\in R$, what is the meaning of $x_{ijk}=1$?\n",
    "\n",
    "Well, if the variable $x_{ijk}$ is equal to one corresponds to the player $i$ who in their $j$th shot gained $k$ points, so if it is equal to zero means that did not gain $k$ points. Notice that in each shot the player must hit the dartboard in only one region, so there is no such thing so $0$ points."
   ]
  },
  {
   "cell_type": "markdown",
   "metadata": {},
   "source": [
    "## Constraints\n",
    "\n",
    "With this definition of the decision variables we can now determined how to model the constraints.\n",
    "\n",
    "* *Each player must in each shot hit one and only one region*. So for a player $i$ and a shot $j$ we have\n",
    "$$ \\sum_{k\\in R} x_{ijk} = 1, \\; \\forall i \\in \\mbox{P}, \\forall j \\in \\mbox{S}.$$ This encompasses the idea that in each shot the player must hit one and only one of the regions of the dartboard.\n",
    "\n",
    "\n",
    "* Each player scored $71$ points. So for a player $i$ we have\n",
    "$$ \\sum_{j\\in S, k \\in R}k\\cdot x_{ijk}=71, \\; \\forall i \\in \\mbox{P}.$$\n",
    "\n",
    "\n",
    "* *Each region has a number of darts on it*. Notice that since each region has a defined number of darts on it, this is what creates a relation between the players and their shots, since so far the two constraints above leaves the performance of each player unrelated. Using the data DR we express this as follows\n",
    "$$ \\sum_{i\\in P, j \\in S} x_{ijk} = DR[k], \\; \\forall k \\in \\mbox{R}.$$\n",
    "\n",
    "\n",
    "* *Andrea made in their first two shots $22$ points*. Notice that given the points of each region of the dartboard this can be achieved by having a dart in the $20$ points region and the other dart in the $2$ points region. Since the order does not matter we can go directly and set\n",
    "$$ x_{1,1,20}=1 \\; \\mbox{and} \\; x_{1,2,2}=1,$$\n",
    "which translates into \"Ann made $20$ points in their first shot and $2$ points in their second shot.\n",
    "\n",
    "\n",
    "* *Antonio made three points in their first shot*. This can be achieved in only one way\n",
    "$$ x_{2,1,3}=1.$$\n",
    "\n",
    "\n",
    "* *Each variable is binary*\n",
    "$$ x_{ijk} \\in \\{0,1\\}.$$"
   ]
  },
  {
   "cell_type": "markdown",
   "metadata": {},
   "source": [
    "## Objective Function\n",
    "\n",
    "Here the optimization problem turns out to be one of finding a feasible solution, since there is nothing to optimize. Hence, we can simply put a variable to optimize, for instance\n",
    "\n",
    "$$ \\max x_{311}.$$"
   ]
  },
  {
   "cell_type": "markdown",
   "metadata": {},
   "source": [
    "## Final formulation\n",
    "\n",
    "$$ \n",
    "\\begin{array}{rrl}\n",
    "\\max & x_{311} &  \\\\\n",
    "            &          &      \\\\\n",
    "\\mbox{s.t.} & \\sum_{k\\in R} x_{ijk} = 1, & \\forall i \\in \\mbox{P}, \\forall j \\in \\mbox{S} \\\\\n",
    "            &          &      \\\\\n",
    "            & \\sum_{j\\in S, k \\in R}k\\cdot x_{ijk}=71, & \\forall i \\in \\mbox{P} \\\\\n",
    "            &          &      \\\\\n",
    "            & \\sum_{i\\in P, j \\in S} x_{ijk} = DR[k], & \\forall k \\in \\mbox{R} \\\\\n",
    "            &          &      \\\\\n",
    "            & x_{1,1,20}=1 &   \\\\\n",
    "            &          &      \\\\\n",
    "            & x_{1,2,2}=1  &   \\\\\n",
    "            &          &      \\\\\n",
    "            & x_{2,1,3}=1  &   \\\\\n",
    "            &          &      \\\\\n",
    "            & x_{ijk} \\in \\{0,1\\} &    \\\\            \n",
    "\\end{array}\n",
    "$$"
   ]
  }
 ],
 "metadata": {
  "kernelspec": {
   "display_name": "Python 3",
   "language": "python",
   "name": "python3"
  },
  "language_info": {
   "codemirror_mode": {
    "name": "ipython",
    "version": 3
   },
   "file_extension": ".py",
   "mimetype": "text/x-python",
   "name": "python",
   "nbconvert_exporter": "python",
   "pygments_lexer": "ipython3",
   "version": "3.7.6"
  }
 },
 "nbformat": 4,
 "nbformat_minor": 4
}
