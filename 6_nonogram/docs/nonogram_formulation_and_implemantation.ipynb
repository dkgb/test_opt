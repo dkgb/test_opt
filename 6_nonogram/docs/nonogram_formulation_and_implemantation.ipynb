{
 "cells": [
  {
   "cell_type": "markdown",
   "metadata": {},
   "source": [
    "# #5 Nanogram Game - Formulation\n",
    "_Author: Éder Pinheiro_  \n",
    "_Aug, 2021_\n",
    "\n",
    "This is the MIP formulation of the puzzle. Statement and solution implementation of all puzzles \n",
    "are available from the main page of the [Fun Puzzles](https://mip-master.github.io/puzzles/) project, \n",
    "which is maintained by [Mip Master](https://mipmaster.org/).\n",
    "\n",
    "The purpose of the game is to darken some of the cells so that in every row and every collumn the darkened cells form distinct strings with the lengths in the correct order prescribed by the numbers on the left of the row and on top of the column.\n"
   ]
  },
  {
   "cell_type": "markdown",
   "metadata": {},
   "source": [
    "### Input Data  \n",
    "Parameters:\n",
    "\n",
    "$n,m$ numbers of rows and columns, respectivaly.\n",
    "\n",
    "$S_c[j]$ list of string sizes in each collumn $j$.\n",
    "\n",
    "$S_r[i]$ list of string sizes in each row $i$."
   ]
  },
  {
   "cell_type": "markdown",
   "metadata": {},
   "source": [
    "### Decision Variables\n",
    "$x_{ijs}$ if string s of column j starts in row i\n",
    "\n",
    "$y_{ijs}$ if string s of row i starts in column j\n",
    "\n",
    "$z_{ij}$ if cell with row $i$ an column $j$ is darken"
   ]
  },
  {
   "cell_type": "markdown",
   "metadata": {},
   "source": [
    "### Constraints\n",
    "\n",
    "* Every strings in solution.\n",
    "$$\\sum_{i = 0}^{n-S_c[j][s]} x_{ijs} = 1, \\quad j = 0, \\cdots, m-1,  s = 0, \\cdots, |S_c[j]|-1.$$\n",
    "$$\\sum_{j = 0}^{m-S_r[i][s]} y_{ijs} = 1, \\quad   i = 0, \\cdots, n-1,  s = 0 \\cdots, |S_r[i]|-1.$$"
   ]
  },
  {
   "cell_type": "markdown",
   "metadata": {},
   "source": [
    "* Strings sequence in right order.\n",
    "$$x_{ijs} \\leq \\sum_{k=i+S_c[j][s]}^{n-S_c[j][s+1]+1} x_{kj(s+1)}, \\quad  j = 0, \\cdots, m-1,  s = 0, \\cdots, (|S_c[j]|-2).$$\n",
    "$$y_{ijs} \\leq \\sum_{k=j+S_r[i][s]}^{m-S_r[i][s+1]+1} y_{ik(s+1)}, \\quad  i = 0, \\cdots, n-1,  s = 0, \\cdots, (|S_r[i]|-2).$$"
   ]
  },
  {
   "cell_type": "markdown",
   "metadata": {},
   "source": [
    "* The cells where the strings are placed are daken.\n",
    "$$z_{ij} \\geq  x_{kjs}; \\quad  j = 0, \\cdots, m-1; \\quad s = 0, \\cdots, |S_c[j]|-1; \\quad k = i-S_c[j][s], \\cdots, i.$$.\n",
    "$$z_{ij} \\geq  y_{iks}; \\quad i = 0, \\cdots, n-1, \\quad s = 0, \\cdots, |S_r[i]|-1; \\quad k = j-S_r[i][s], \\cdots, j.$$"
   ]
  },
  {
   "cell_type": "markdown",
   "metadata": {},
   "source": [
    "* The cells where the strings are not placed must be empty.\n",
    "$$z_{ij} \\leq \\sum_{s=0}^{|S_c[j]|-1} \\sum_{k=i-S_c[j][s]}^{i} x_{kjs}.$$\n",
    "$$z_{ij} \\leq \\sum_{s=0}^{|S_r[i]|-1} \\sum_{k=j-S_r[i][s]}^{j} y_{iks}.$$"
   ]
  },
  {
   "cell_type": "markdown",
   "metadata": {},
   "source": [
    "### Objective Function\n",
    "$$\\min \\sum_{i=0}^m\\sum_{j=0}^n z_{ij}.$$"
   ]
  },
  {
   "cell_type": "markdown",
   "metadata": {},
   "source": [
    " "
   ]
  },
  {
   "cell_type": "markdown",
   "metadata": {},
   "source": [
    "## Implementation"
   ]
  },
  {
   "cell_type": "code",
   "execution_count": 96,
   "metadata": {
    "tags": []
   },
   "outputs": [],
   "source": [
    "import pulp\n",
    "Sc=[[1,1,3],[1,1,1],[1,1,1],[1,2,1],[3,3],[3,2,3],[3,4],[1,1],[1,2,1,2],[6,2]]\n",
    "Sr=[[4,1,2],[3,1],[1,3,2],[1,1,1,2],[1,1,1,1],[1,1,1,1],[1,1,1,4],[1,3],[1,4,2],[2,2]]\n",
    "m = len(Sc)\n",
    "n = len(Sr)\n",
    "keys_x=[(i,j,s) for j in range(m) for s in range(len(Sc[j])) for i in range(n)]\n",
    "keys_y=[(i,j,s) for i in range(n) for s in range(len(Sr[i])) for j in range(m)]\n",
    "x = pulp.LpVariable.dicts(indexs=keys_x, cat=pulp.LpBinary, name='x')\n",
    "y = pulp.LpVariable.dicts(indexs=keys_y, cat=pulp.LpBinary, name='y')\n",
    "z = pulp.LpVariable.dicts(indexs=[(i,j) for i in range(n) for j in range(m)], cat=pulp.LpBinary, name='z')\n",
    "model = pulp.LpProblem('', sense=pulp.LpMinimize)\n",
    "\n",
    "for j in range(m):\n",
    "    for s in range(len(Sc[j])):\n",
    "        model.addConstraint(pulp.lpSum(x[i, j, s] for i in range(n-Sc[j][s]+1)) == 1, name=f'column_string_{s}{j}')\n",
    "for i in range(n):\n",
    "    for s in range(len(Sr[i])):\n",
    "        model.addConstraint(pulp.lpSum(y[i, j, s] for j in range(m-Sr[i][s]+1)) == 1, name=f'row_string_{s}{i}')\n",
    "        \n",
    "for j in range(m):\n",
    "    for s in range(len(Sc[j])-1):\n",
    "        for i in range(n):\n",
    "            model.addConstraint(x[i,j,s] <= pulp.lpSum(x[k, j, s+1] for k in range(i+Sc[j][s]+1,n-Sc[j][s+1]+1)), name=f'{Sc[j][s]}_string_{s}column{j}_above_{s+1}{j}_row_{i}')      \n",
    "for i in range(n):\n",
    "    for s in range(len(Sr[i])-1):\n",
    "        for j in range(m):\n",
    "            model.addConstraint(y[i,j,s] <= pulp.lpSum(y[i, k, s+1] for k in range(j+Sr[i][s]+1,m-Sr[i][s+1]+1)), name=f'{Sr[i][s]}_string_{s}row{i}_left_from_{s+1}{i}_col_{j}')\n",
    "        \n",
    "for i in range(n):\n",
    "    for j in range(m):\n",
    "        for s in range(len(Sc[j])):\n",
    "            for k in range(max(i-Sc[j][s]+1,0),i+1):\n",
    "                model.addConstraint(z[i,j] >= x[k, j, s], name=f'z_{i}{j}_x_{k}{j}{s}')\n",
    "for j in range(m):\n",
    "    for i in range(n):\n",
    "        for s in range(len(Sr[i])):\n",
    "            for k in range(max(j-Sr[i][s]+1,0), j+1):\n",
    "                model.addConstraint(z[i,j] >= y[i, k, s], name=f'z_{i}{j}_y_{i}{k}{s}')\n",
    "            \n",
    "for i in range(n):\n",
    "    for j in range(m):\n",
    "        model.addConstraint(z[i,j] <= pulp.lpSum(x[k, j, s] for s in range(len(Sc[j])) for k in range(max(i-Sc[j][s]+1,0),i+1)), name=f'z_{i}{j}_sumx')\n",
    "for i in range(n):\n",
    "    for j in range(m):\n",
    "        model.addConstraint(z[i,j] <= pulp.lpSum(y[i, k, s] for s in range(len(Sr[i])) for k in range(max(j-Sr[i][s]+1,0),j+1)), name=f'z_{i}{j}_sumy')\n",
    "        \n",
    "        \n",
    "# set the objective function\n",
    "model.setObjective(pulp.lpSum(z[(i, j)] for i in range(n) for j in range(m)))\n",
    "\n",
    "\n",
    "# optimize\n",
    "model.solve()\n",
    "\n",
    "# retrieve and print out the solution\n",
    "z_sol = [[z[i,j].value() for j in range(m)] for i in range(n)]\n",
    "# print(f'z = {z_sol}')\n",
    "for row in z_sol:\n",
    "    print(row)"
   ]
  },
  {
   "cell_type": "markdown",
   "metadata": {
    "tags": []
   },
   "source": []
  }
 ],
 "metadata": {
  "kernelspec": {
   "display_name": ".scripts_venv",
   "language": "python",
   "name": ".scripts_venv"
  },
  "language_info": {
   "codemirror_mode": {
    "name": "ipython",
    "version": 3
   },
   "file_extension": ".py",
   "mimetype": "text/x-python",
   "name": "python",
   "nbconvert_exporter": "python",
   "pygments_lexer": "ipython3",
   "version": "3.8.9"
  }
 },
 "nbformat": 4,
 "nbformat_minor": 4
}
